{
 "cells": [
  {
   "cell_type": "code",
   "execution_count": 26,
   "metadata": {},
   "outputs": [],
   "source": [
    "import os\n",
    "l = [x+i for x,y,j in os.walk(os.getcwd()) for i in j]\n",
    "l2 =(i for i in range(100) if i%2 == 0)\n"
   ]
  },
  {
   "cell_type": "code",
   "execution_count": 37,
   "metadata": {},
   "outputs": [
    {
     "name": "stdout",
     "output_type": "stream",
     "text": [
      "5\n",
      "4\n",
      "3\n",
      "2\n",
      "1\n"
     ]
    },
    {
     "data": {
      "text/plain": [
       "1"
      ]
     },
     "execution_count": 37,
     "metadata": {},
     "output_type": "execute_result"
    }
   ],
   "source": [
    "def dg(n):\n",
    "    if n == 0:\n",
    "        return 1\n",
    "    print(n)\n",
    "    return dg(n-1)\n",
    "dg(5)"
   ]
  },
  {
   "cell_type": "code",
   "execution_count": 67,
   "metadata": {},
   "outputs": [
    {
     "data": {
      "text/plain": [
       "5050"
      ]
     },
     "execution_count": 67,
     "metadata": {},
     "output_type": "execute_result"
    }
   ],
   "source": [
    "def dg(n):\n",
    "    if n == 1:\n",
    "        return 1\n",
    "    return n + dg(n-1)\n",
    "dg(100)"
   ]
  },
  {
   "cell_type": "code",
   "execution_count": 55,
   "metadata": {},
   "outputs": [
    {
     "name": "stdout",
     "output_type": "stream",
     "text": [
      "Apple\n",
      "Google\n",
      "Microsoft\n",
      "Java\n",
      "Python\n",
      "Ruby\n",
      "PHP\n",
      "Adam\n",
      "Bart\n",
      "Lisa\n",
      "1\n",
      "2\n",
      "3\n",
      "4\n",
      "5\n"
     ]
    }
   ],
   "source": [
    "L = [\n",
    " ['Apple', 'Google', 'Microsoft'],\n",
    " ['Java', 'Python', 'Ruby', 'PHP'],\n",
    " ['Adam', 'Bart', 'Lisa',[1,2,3,[4,5]]]\n",
    "]\n",
    "\n",
    "def li(k):\n",
    "\tfor i in k:\n",
    "\t\tif not isinstance(i,list):\n",
    "\t\t\tprint(i)\n",
    "\t\telse:\n",
    "\t\t\tli(i)\t\t\t        \n",
    "li(L)"
   ]
  },
  {
   "cell_type": "code",
   "execution_count": 81,
   "metadata": {},
   "outputs": [
    {
     "data": {
      "text/plain": [
       "1"
      ]
     },
     "execution_count": 81,
     "metadata": {},
     "output_type": "execute_result"
    }
   ],
   "source": [
    "g=(x for x in range(2))\n",
    "next(g)\n",
    "next(g)"
   ]
  },
  {
   "cell_type": "code",
   "execution_count": null,
   "metadata": {},
   "outputs": [],
   "source": []
  }
 ],
 "metadata": {
  "kernelspec": {
   "display_name": "Python 3",
   "language": "python",
   "name": "python3"
  },
  "language_info": {
   "codemirror_mode": {
    "name": "ipython",
    "version": 3
   },
   "file_extension": ".py",
   "mimetype": "text/x-python",
   "name": "python",
   "nbconvert_exporter": "python",
   "pygments_lexer": "ipython3",
   "version": "3.7.3"
  }
 },
 "nbformat": 4,
 "nbformat_minor": 2
}
