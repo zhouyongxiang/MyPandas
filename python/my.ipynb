{
 "cells": [
  {
   "cell_type": "code",
   "execution_count": 1,
   "metadata": {},
   "outputs": [
    {
     "name": "stdout",
     "output_type": "stream",
     "text": [
      "Apple\n",
      "Google\n",
      "Microsoft\n",
      "Java\n",
      "Python\n",
      "Ruby\n",
      "PHP\n",
      "Adam\n",
      "Bart\n",
      "Lisa\n",
      "1\n",
      "2\n",
      "3\n",
      "4\n",
      "5\n"
     ]
    }
   ],
   "source": [
    "#coding:gbk\n",
    "L = [\n",
    " ['Apple', 'Google', 'Microsoft'],\n",
    " ['Java', 'Python', 'Ruby', 'PHP'],\n",
    " ['Adam', 'Bart', 'Lisa',[1,2,3,[4,5]]]\n",
    "]\n",
    "\n",
    "def li(k):\n",
    "\tfor i in k:\n",
    "\t\tif not isinstance(i,list):\n",
    "\t\t\tprint(i)\n",
    "\t\telse:\n",
    "\t\t\tli(i)\n",
    "\t\t\t\n",
    "            \n",
    "li(L)"
   ]
  },
  {
   "cell_type": "code",
   "execution_count": 2,
   "metadata": {},
   "outputs": [],
   "source": [
    "import pandas as pd"
   ]
  },
  {
   "cell_type": "code",
   "execution_count": 4,
   "metadata": {},
   "outputs": [],
   "source": [
    "def n(a,b,**c):\n",
    "    print(a,b,c)"
   ]
  },
  {
   "cell_type": "code",
   "execution_count": 5,
   "metadata": {},
   "outputs": [
    {
     "name": "stdout",
     "output_type": "stream",
     "text": [
      "1 2 {}\n"
     ]
    }
   ],
   "source": [
    "n(1,2)"
   ]
  },
  {
   "cell_type": "code",
   "execution_count": 8,
   "metadata": {},
   "outputs": [
    {
     "name": "stdout",
     "output_type": "stream",
     "text": [
      "1 2 {'i': 3}\n"
     ]
    }
   ],
   "source": [
    "n(1,2,i=3)"
   ]
  },
  {
   "cell_type": "code",
   "execution_count": 9,
   "metadata": {},
   "outputs": [
    {
     "name": "stdout",
     "output_type": "stream",
     "text": [
      "1 2 {'i': 12, 'j': 23}\n"
     ]
    }
   ],
   "source": [
    "n(1,2,i=12,j=23)"
   ]
  },
  {
   "cell_type": "code",
   "execution_count": 19,
   "metadata": {},
   "outputs": [
    {
     "name": "stdout",
     "output_type": "stream",
     "text": [
      "1 2 (3, 4)\n",
      "1 2 ((1, 2, 3),)\n"
     ]
    }
   ],
   "source": [
    "def n(a,b,*args):\n",
    "    print(a,b,args)\n",
    "n(1,2,3,4)\n",
    "n(1,2,(1,2,3))"
   ]
  },
  {
   "cell_type": "code",
   "execution_count": null,
   "metadata": {},
   "outputs": [],
   "source": []
  }
 ],
 "metadata": {
  "kernelspec": {
   "display_name": "Python 3",
   "language": "python",
   "name": "python3"
  },
  "language_info": {
   "codemirror_mode": {
    "name": "ipython",
    "version": 3
   },
   "file_extension": ".py",
   "mimetype": "text/x-python",
   "name": "python",
   "nbconvert_exporter": "python",
   "pygments_lexer": "ipython3",
   "version": "3.7.3"
  }
 },
 "nbformat": 4,
 "nbformat_minor": 2
}
